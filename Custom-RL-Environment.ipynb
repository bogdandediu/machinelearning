{
 "cells": [
  {
   "cell_type": "markdown",
   "source": [
    "# 0. Import dependencies"
   ],
   "metadata": {}
  },
  {
   "cell_type": "code",
   "execution_count": 1,
   "source": [
    "from gym import Env\r\n",
    "from gym.spaces import Discrete, Box\r\n",
    "import numpy as np\r\n",
    "import random"
   ],
   "outputs": [],
   "metadata": {}
  },
  {
   "cell_type": "markdown",
   "source": [
    "# 1. Create the Environment"
   ],
   "metadata": {}
  },
  {
   "cell_type": "code",
   "execution_count": 5,
   "source": [
    "class ShowerEnv(Env):\r\n",
    "        def __init__(self):\r\n",
    "                # Actions we can take: down, stay, up\r\n",
    "                self.action_space = Discrete(3)\r\n",
    "\r\n",
    "                # Temperature array\r\n",
    "                self.observation_space = Box(low=np.array([0]), high=np.array([100]))\r\n",
    "\r\n",
    "                # Set start temp\r\n",
    "                self.state = 38 + random.randint(-3,3)\r\n",
    "\r\n",
    "                # Set shower length\r\n",
    "                self.shower_length = 60\r\n",
    "                 \r\n",
    "        def step(self, action):\r\n",
    "                # Apply action\r\n",
    "                self.state += action - 1\r\n",
    "                \r\n",
    "                # Reduce shower length by 1 second\r\n",
    "                self.shower_length -= 1\r\n",
    "\r\n",
    "                # Calculate reward\r\n",
    "                if self.state >= 37 and self.state <= 39:\r\n",
    "                        reward = 1\r\n",
    "                else:\r\n",
    "                        reward = -1\r\n",
    "                \r\n",
    "                # Check if shower is done\r\n",
    "                if self.shower_length <= 0:\r\n",
    "                        done = True\r\n",
    "                else:\r\n",
    "                        done = False\r\n",
    "                \r\n",
    "                # Apply temperature noise\r\n",
    "                self.state += random.randint(-1,1)\r\n",
    "\r\n",
    "                # Set placeholder for info\r\n",
    "                info = {}\r\n",
    "\r\n",
    "                # Return step information\r\n",
    "                return self.state, reward, done, info\r\n",
    "\r\n",
    "        def render(self):\r\n",
    "                # Implement visualization\r\n",
    "                pass\r\n",
    "\r\n",
    "        def reset(self):\r\n",
    "                # Reset shower temperature\r\n",
    "                self.state = 38 + random.randint(-3,3)\r\n",
    "\r\n",
    "                # Reset shower time\r\n",
    "                self.shower_length = 60\r\n",
    "\r\n",
    "                return self.state"
   ],
   "outputs": [],
   "metadata": {}
  },
  {
   "cell_type": "code",
   "execution_count": 6,
   "source": [
    "env = ShowerEnv()"
   ],
   "outputs": [
    {
     "output_type": "stream",
     "name": "stderr",
     "text": [
      "C:\\Users\\bogda\\anaconda3\\envs\\rl\\lib\\site-packages\\gym\\logger.py:34: UserWarning: \u001b[33mWARN: Box bound precision lowered by casting to float32\u001b[0m\n",
      "  warnings.warn(colorize(\"%s: %s\" % (\"WARN\", msg % args), \"yellow\"))\n"
     ]
    }
   ],
   "metadata": {}
  },
  {
   "cell_type": "code",
   "execution_count": 28,
   "source": [
    "env.observation_space.sample()"
   ],
   "outputs": [
    {
     "output_type": "execute_result",
     "data": {
      "text/plain": [
       "array([34.437687], dtype=float32)"
      ]
     },
     "metadata": {},
     "execution_count": 28
    }
   ],
   "metadata": {}
  },
  {
   "cell_type": "code",
   "execution_count": 29,
   "source": [
    "episodes = 10\r\n",
    "for episode in range (1, episodes + 1):\r\n",
    "        state = env.reset()\r\n",
    "        done = False\r\n",
    "        score = 0\r\n",
    "\r\n",
    "        while not done:\r\n",
    "                #env.render()\r\n",
    "                action = env.action_space.sample()\r\n",
    "                n_state, reward, done, info = env.step(action)\r\n",
    "                score += reward\r\n",
    "        print('Episode:{} Score:{}'.format(episode,score))"
   ],
   "outputs": [
    {
     "output_type": "stream",
     "name": "stdout",
     "text": [
      "Episode:1 Score:-26\n",
      "Episode:2 Score:-58\n",
      "Episode:3 Score:-40\n",
      "Episode:4 Score:-40\n",
      "Episode:5 Score:30\n",
      "Episode:6 Score:-50\n",
      "Episode:7 Score:-28\n",
      "Episode:8 Score:-30\n",
      "Episode:9 Score:-48\n",
      "Episode:10 Score:-52\n"
     ]
    }
   ],
   "metadata": {}
  },
  {
   "cell_type": "markdown",
   "source": [
    "# 2. Keras Deep Learning Model"
   ],
   "metadata": {}
  },
  {
   "cell_type": "code",
   "execution_count": 39,
   "source": [
    "import tensorflow\r\n",
    "#from tensorflow.keras.models import Sequential\r\n",
    "from tensorflow.keras.layers import Dense, Flatten\r\n",
    "from tensorflow.keras.optimizers import Adam"
   ],
   "outputs": [],
   "metadata": {}
  },
  {
   "cell_type": "code",
   "execution_count": 40,
   "source": [
    "states = env.observation_space.shape\r\n",
    "actions = env.action_space.n"
   ],
   "outputs": [],
   "metadata": {}
  },
  {
   "cell_type": "code",
   "execution_count": 41,
   "source": [
    "def build_model(states, actions):\r\n",
    "        model = tensorflow.keras.Sequential()\r\n",
    "        model.add(Dense(24, activation='relu', input_shape=states))\r\n",
    "        model.add(Dense(24, activation='relu'))\r\n",
    "        model.add(Dense(actions, activation='linear'))\r\n",
    "        return model"
   ],
   "outputs": [],
   "metadata": {}
  },
  {
   "cell_type": "code",
   "execution_count": 42,
   "source": [
    "model = build_model(states, actions)"
   ],
   "outputs": [],
   "metadata": {}
  },
  {
   "cell_type": "code",
   "execution_count": 43,
   "source": [
    "model.summary()"
   ],
   "outputs": [
    {
     "output_type": "stream",
     "name": "stdout",
     "text": [
      "Model: \"sequential_1\"\n",
      "_________________________________________________________________\n",
      "Layer (type)                 Output Shape              Param #   \n",
      "=================================================================\n",
      "dense_3 (Dense)              (None, 24)                48        \n",
      "_________________________________________________________________\n",
      "dense_4 (Dense)              (None, 24)                600       \n",
      "_________________________________________________________________\n",
      "dense_5 (Dense)              (None, 3)                 75        \n",
      "=================================================================\n",
      "Total params: 723\n",
      "Trainable params: 723\n",
      "Non-trainable params: 0\n",
      "_________________________________________________________________\n"
     ]
    }
   ],
   "metadata": {}
  },
  {
   "cell_type": "markdown",
   "source": [
    "# 3. Build Agent with Keras-RL"
   ],
   "metadata": {}
  },
  {
   "cell_type": "code",
   "execution_count": 44,
   "source": [
    "from rl.agents import DQNAgent\r\n",
    "from rl.policy import BoltzmannQPolicy\r\n",
    "from rl.memory import SequentialMemory"
   ],
   "outputs": [],
   "metadata": {}
  },
  {
   "cell_type": "code",
   "execution_count": 45,
   "source": [
    "def build_agent(model, actions):\r\n",
    "        policy = BoltzmannQPolicy()\r\n",
    "        memory = SequentialMemory(limit=50000, window_length=1)\r\n",
    "        dqn = DQNAgent(model=model, memory=memory, policy=policy,\r\n",
    "                nb_actions=actions, nb_steps_warmup=10, target_model_update=1e-2)\r\n",
    "        return dqn"
   ],
   "outputs": [],
   "metadata": {}
  },
  {
   "cell_type": "code",
   "execution_count": 46,
   "source": [
    "dqn = build_agent(model, actions)\r\n",
    "dqn.compile(Adam(learning_rate=1e-3), metrics=['mae'])\r\n",
    "dqn.fit(env, nb_steps=50000, visualize=False, verbose=1)"
   ],
   "outputs": [
    {
     "output_type": "stream",
     "name": "stdout",
     "text": [
      "Training for 50000 steps ...\n",
      "Interval 1 (0 steps performed)\n",
      "    1/10000 [..............................] - ETA: 6:47 - reward: 1.0000"
     ]
    },
    {
     "output_type": "stream",
     "name": "stderr",
     "text": [
      "C:\\Users\\bogda\\anaconda3\\envs\\rl\\lib\\site-packages\\keras\\engine\\training.py:2470: UserWarning: `Model.state_updates` will be removed in a future version. This property should not be used in TensorFlow 2.0, as `updates` are applied automatically.\n",
      "  warnings.warn('`Model.state_updates` will be removed in a future version. '\n",
      "C:\\Users\\bogda\\anaconda3\\envs\\rl\\lib\\site-packages\\rl\\memory.py:37: UserWarning: Not enough entries to sample without replacement. Consider increasing your warm-up phase to avoid oversampling!\n",
      "  warnings.warn('Not enough entries to sample without replacement. Consider increasing your warm-up phase to avoid oversampling!')\n"
     ]
    },
    {
     "output_type": "stream",
     "name": "stdout",
     "text": [
      "10000/10000 [==============================] - 54s 5ms/step - reward: -0.7574\n",
      "166 episodes - episode_reward: -45.398 [-60.000, 6.000] - loss: 2.320 - mae: 9.934 - mean_q: -10.612\n",
      "\n",
      "Interval 2 (10000 steps performed)\n",
      "10000/10000 [==============================] - 55s 6ms/step - reward: -0.6170\n",
      "167 episodes - episode_reward: -37.234 [-60.000, 26.000] - loss: 3.137 - mae: 13.186 - mean_q: -18.950\n",
      "\n",
      "Interval 3 (20000 steps performed)\n",
      "10000/10000 [==============================] - 51s 5ms/step - reward: -0.6004\n",
      "167 episodes - episode_reward: -35.892 [-60.000, 22.000] - loss: 3.372 - mae: 14.322 - mean_q: -20.632\n",
      "\n",
      "Interval 4 (30000 steps performed)\n",
      "10000/10000 [==============================] - 51s 5ms/step - reward: -0.6086\n",
      "166 episodes - episode_reward: -36.723 [-60.000, 14.000] - loss: 2.958 - mae: 13.416 - mean_q: -19.289\n",
      "\n",
      "Interval 5 (40000 steps performed)\n",
      "10000/10000 [==============================] - 51s 5ms/step - reward: -0.6530\n",
      "done, took 262.469 seconds\n"
     ]
    },
    {
     "output_type": "execute_result",
     "data": {
      "text/plain": [
       "<keras.callbacks.History at 0x234d7f23b50>"
      ]
     },
     "metadata": {},
     "execution_count": 46
    }
   ],
   "metadata": {}
  },
  {
   "cell_type": "code",
   "execution_count": 47,
   "source": [
    "scores = dqn.test(env, nb_episodes=100, visualize=False)\r\n",
    "print(np.mean(scores.history['episode_reward']))"
   ],
   "outputs": [
    {
     "output_type": "stream",
     "name": "stdout",
     "text": [
      "Testing for 100 episodes ...\n",
      "Episode 1: reward: -48.000, steps: 60\n",
      "Episode 2: reward: -56.000, steps: 60\n",
      "Episode 3: reward: -14.000, steps: 60\n",
      "Episode 4: reward: -22.000, steps: 60\n",
      "Episode 5: reward: -56.000, steps: 60\n",
      "Episode 6: reward: -44.000, steps: 60\n",
      "Episode 7: reward: -20.000, steps: 60\n",
      "Episode 8: reward: -40.000, steps: 60\n",
      "Episode 9: reward: -60.000, steps: 60\n",
      "Episode 10: reward: -22.000, steps: 60\n",
      "Episode 11: reward: -34.000, steps: 60\n",
      "Episode 12: reward: -12.000, steps: 60\n",
      "Episode 13: reward: 10.000, steps: 60\n",
      "Episode 14: reward: -16.000, steps: 60\n",
      "Episode 15: reward: -34.000, steps: 60\n",
      "Episode 16: reward: -12.000, steps: 60\n",
      "Episode 17: reward: -60.000, steps: 60\n",
      "Episode 18: reward: -48.000, steps: 60\n",
      "Episode 19: reward: -60.000, steps: 60\n",
      "Episode 20: reward: -58.000, steps: 60\n",
      "Episode 21: reward: -60.000, steps: 60\n",
      "Episode 22: reward: -60.000, steps: 60\n",
      "Episode 23: reward: -28.000, steps: 60\n",
      "Episode 24: reward: -4.000, steps: 60\n",
      "Episode 25: reward: 32.000, steps: 60\n",
      "Episode 26: reward: -26.000, steps: 60\n",
      "Episode 27: reward: -16.000, steps: 60\n",
      "Episode 28: reward: -36.000, steps: 60\n",
      "Episode 29: reward: -60.000, steps: 60\n",
      "Episode 30: reward: -40.000, steps: 60\n",
      "Episode 31: reward: -60.000, steps: 60\n",
      "Episode 32: reward: -58.000, steps: 60\n",
      "Episode 33: reward: -46.000, steps: 60\n",
      "Episode 34: reward: -60.000, steps: 60\n",
      "Episode 35: reward: -58.000, steps: 60\n",
      "Episode 36: reward: -32.000, steps: 60\n",
      "Episode 37: reward: -40.000, steps: 60\n",
      "Episode 38: reward: -46.000, steps: 60\n",
      "Episode 39: reward: -44.000, steps: 60\n",
      "Episode 40: reward: -56.000, steps: 60\n",
      "Episode 41: reward: -58.000, steps: 60\n",
      "Episode 42: reward: -60.000, steps: 60\n",
      "Episode 43: reward: -12.000, steps: 60\n",
      "Episode 44: reward: -58.000, steps: 60\n",
      "Episode 45: reward: -54.000, steps: 60\n",
      "Episode 46: reward: -36.000, steps: 60\n",
      "Episode 47: reward: -54.000, steps: 60\n",
      "Episode 48: reward: -60.000, steps: 60\n",
      "Episode 49: reward: -50.000, steps: 60\n",
      "Episode 50: reward: -56.000, steps: 60\n",
      "Episode 51: reward: 8.000, steps: 60\n",
      "Episode 52: reward: -60.000, steps: 60\n",
      "Episode 53: reward: -60.000, steps: 60\n",
      "Episode 54: reward: -58.000, steps: 60\n",
      "Episode 55: reward: -46.000, steps: 60\n",
      "Episode 56: reward: -46.000, steps: 60\n",
      "Episode 57: reward: -60.000, steps: 60\n",
      "Episode 58: reward: -42.000, steps: 60\n",
      "Episode 59: reward: -34.000, steps: 60\n",
      "Episode 60: reward: -60.000, steps: 60\n",
      "Episode 61: reward: -52.000, steps: 60\n",
      "Episode 62: reward: -60.000, steps: 60\n",
      "Episode 63: reward: -46.000, steps: 60\n",
      "Episode 64: reward: -24.000, steps: 60\n",
      "Episode 65: reward: -60.000, steps: 60\n",
      "Episode 66: reward: -60.000, steps: 60\n",
      "Episode 67: reward: -52.000, steps: 60\n",
      "Episode 68: reward: -60.000, steps: 60\n",
      "Episode 69: reward: -58.000, steps: 60\n",
      "Episode 70: reward: -50.000, steps: 60\n",
      "Episode 71: reward: -60.000, steps: 60\n",
      "Episode 72: reward: -40.000, steps: 60\n",
      "Episode 73: reward: -28.000, steps: 60\n",
      "Episode 74: reward: -42.000, steps: 60\n",
      "Episode 75: reward: -60.000, steps: 60\n",
      "Episode 76: reward: -58.000, steps: 60\n",
      "Episode 77: reward: -58.000, steps: 60\n",
      "Episode 78: reward: -42.000, steps: 60\n",
      "Episode 79: reward: -60.000, steps: 60\n",
      "Episode 80: reward: -60.000, steps: 60\n",
      "Episode 81: reward: -36.000, steps: 60\n",
      "Episode 82: reward: -16.000, steps: 60\n",
      "Episode 83: reward: -60.000, steps: 60\n",
      "Episode 84: reward: -18.000, steps: 60\n",
      "Episode 85: reward: -60.000, steps: 60\n",
      "Episode 86: reward: -22.000, steps: 60\n",
      "Episode 87: reward: -56.000, steps: 60\n",
      "Episode 88: reward: -52.000, steps: 60\n",
      "Episode 89: reward: -60.000, steps: 60\n",
      "Episode 90: reward: -60.000, steps: 60\n",
      "Episode 91: reward: -60.000, steps: 60\n",
      "Episode 92: reward: -60.000, steps: 60\n",
      "Episode 93: reward: -48.000, steps: 60\n",
      "Episode 94: reward: -58.000, steps: 60\n",
      "Episode 95: reward: -42.000, steps: 60\n",
      "Episode 96: reward: -60.000, steps: 60\n",
      "Episode 97: reward: -22.000, steps: 60\n",
      "Episode 98: reward: -52.000, steps: 60\n",
      "Episode 99: reward: -30.000, steps: 60\n",
      "Episode 100: reward: -10.000, steps: 60\n",
      "-43.72\n"
     ]
    }
   ],
   "metadata": {}
  },
  {
   "cell_type": "code",
   "execution_count": null,
   "source": [],
   "outputs": [],
   "metadata": {}
  }
 ],
 "metadata": {
  "kernelspec": {
   "name": "python3",
   "display_name": "Python 3.9.6 64-bit ('rl': conda)"
  },
  "language_info": {
   "codemirror_mode": {
    "name": "ipython",
    "version": 3
   },
   "file_extension": ".py",
   "mimetype": "text/x-python",
   "name": "python",
   "nbconvert_exporter": "python",
   "pygments_lexer": "ipython3",
   "version": "3.9.6"
  },
  "interpreter": {
   "hash": "06a62d2d004195320354063fe0c87754178cc8755c494525781d9a58f235cc3a"
  }
 },
 "nbformat": 4,
 "nbformat_minor": 5
}